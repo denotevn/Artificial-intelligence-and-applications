{
  "nbformat": 4,
  "nbformat_minor": 0,
  "metadata": {
    "colab": {
      "name": "Bản sao của lab04_NPL.ipynb",
      "provenance": [],
      "collapsed_sections": [],
      "mount_file_id": "11U8yS8WvILGBd3OK-wnjsKmx7SuSEanV",
      "authorship_tag": "ABX9TyODczBXtqRAYxHjSXss3hbF",
      "include_colab_link": true
    },
    "kernelspec": {
      "name": "python3",
      "display_name": "Python 3"
    },
    "language_info": {
      "name": "python"
    }
  },
  "cells": [
    {
      "cell_type": "markdown",
      "metadata": {
        "id": "view-in-github",
        "colab_type": "text"
      },
      "source": [
        "<a href=\"https://colab.research.google.com/github/denotevn/Artificial-intelligence-and-applications/blob/main/B%E1%BA%A3n_sao_c%E1%BB%A7a_lab04_NPL.ipynb\" target=\"_parent\"><img src=\"https://colab.research.google.com/assets/colab-badge.svg\" alt=\"Open In Colab\"/></a>"
      ]
    },
    {
      "cell_type": "code",
      "metadata": {
        "colab": {
          "base_uri": "https://localhost:8080/",
          "height": 203
        },
        "id": "QYsRoSWZ483L",
        "outputId": "bf22dd5b-0a12-4238-9199-3482c3a14b7b"
      },
      "source": [
        "#Read data\n",
        "import pandas as pd\n",
        "data = pd.read_csv(\"/content/drive/MyDrive/Colab Notebooks/data_baitapanhthanh/lab4_dataAnalysis/dataset.csv\")\n",
        "data.head()"
      ],
      "execution_count": null,
      "outputs": [
        {
          "output_type": "execute_result",
          "data": {
            "text/html": [
              "<div>\n",
              "<style scoped>\n",
              "    .dataframe tbody tr th:only-of-type {\n",
              "        vertical-align: middle;\n",
              "    }\n",
              "\n",
              "    .dataframe tbody tr th {\n",
              "        vertical-align: top;\n",
              "    }\n",
              "\n",
              "    .dataframe thead th {\n",
              "        text-align: right;\n",
              "    }\n",
              "</style>\n",
              "<table border=\"1\" class=\"dataframe\">\n",
              "  <thead>\n",
              "    <tr style=\"text-align: right;\">\n",
              "      <th></th>\n",
              "      <th>genre</th>\n",
              "      <th>lyrics</th>\n",
              "      <th>SongInfo</th>\n",
              "    </tr>\n",
              "  </thead>\n",
              "  <tbody>\n",
              "    <tr>\n",
              "      <th>0</th>\n",
              "      <td>Christian</td>\n",
              "      <td>Who am I, that the Lord of all the earth Woul...</td>\n",
              "      <td>CASTING CROWNS - WHO AM I LYRICS</td>\n",
              "    </tr>\n",
              "    <tr>\n",
              "      <th>1</th>\n",
              "      <td>Christian</td>\n",
              "      <td>Glory Revealed  By His Wounds He was pierced ...</td>\n",
              "      <td>GLORY REVEALED - BY HIS WOUNDS LYRICS</td>\n",
              "    </tr>\n",
              "    <tr>\n",
              "      <th>2</th>\n",
              "      <td>Christian</td>\n",
              "      <td>Lord of heaven and earth Lord of all creation...</td>\n",
              "      <td>CAEDMON'S CALL - GOD OF WONDERS LYRICS</td>\n",
              "    </tr>\n",
              "    <tr>\n",
              "      <th>3</th>\n",
              "      <td>Christian</td>\n",
              "      <td>I can only imagine what it will be like When ...</td>\n",
              "      <td>MERCYME - I CAN ONLY IMAGINE LYRICS</td>\n",
              "    </tr>\n",
              "    <tr>\n",
              "      <th>4</th>\n",
              "      <td>Christian</td>\n",
              "      <td>I am not skilled to understand What God has w...</td>\n",
              "      <td>AARON SHUST - MY SAVIOR MY GOD LYRICS</td>\n",
              "    </tr>\n",
              "  </tbody>\n",
              "</table>\n",
              "</div>"
            ],
            "text/plain": [
              "       genre  ...                                SongInfo\n",
              "0  Christian  ...        CASTING CROWNS - WHO AM I LYRICS\n",
              "1  Christian  ...   GLORY REVEALED - BY HIS WOUNDS LYRICS\n",
              "2  Christian  ...  CAEDMON'S CALL - GOD OF WONDERS LYRICS\n",
              "3  Christian  ...     MERCYME - I CAN ONLY IMAGINE LYRICS\n",
              "4  Christian  ...   AARON SHUST - MY SAVIOR MY GOD LYRICS\n",
              "\n",
              "[5 rows x 3 columns]"
            ]
          },
          "metadata": {},
          "execution_count": 175
        }
      ]
    },
    {
      "cell_type": "code",
      "metadata": {
        "colab": {
          "base_uri": "https://localhost:8080/"
        },
        "id": "4vKGYTWp8xvq",
        "outputId": "2e3eb265-5b03-4a92-9683-ff99af68441e"
      },
      "source": [
        "#SHow info data\n",
        "data.info()"
      ],
      "execution_count": null,
      "outputs": [
        {
          "output_type": "stream",
          "name": "stdout",
          "text": [
            "<class 'pandas.core.frame.DataFrame'>\n",
            "RangeIndex: 558 entries, 0 to 557\n",
            "Data columns (total 3 columns):\n",
            " #   Column    Non-Null Count  Dtype \n",
            "---  ------    --------------  ----- \n",
            " 0   genre     558 non-null    object\n",
            " 1   lyrics    558 non-null    object\n",
            " 2   SongInfo  558 non-null    object\n",
            "dtypes: object(3)\n",
            "memory usage: 13.2+ KB\n"
          ]
        }
      ]
    },
    {
      "cell_type": "code",
      "metadata": {
        "colab": {
          "base_uri": "https://localhost:8080/",
          "height": 172
        },
        "id": "gHf0SSNs80uN",
        "outputId": "8393040c-63d1-4c85-a01e-c72860046b49"
      },
      "source": [
        "#Some interesting information\n",
        "data.describe()"
      ],
      "execution_count": null,
      "outputs": [
        {
          "output_type": "execute_result",
          "data": {
            "text/html": [
              "<div>\n",
              "<style scoped>\n",
              "    .dataframe tbody tr th:only-of-type {\n",
              "        vertical-align: middle;\n",
              "    }\n",
              "\n",
              "    .dataframe tbody tr th {\n",
              "        vertical-align: top;\n",
              "    }\n",
              "\n",
              "    .dataframe thead th {\n",
              "        text-align: right;\n",
              "    }\n",
              "</style>\n",
              "<table border=\"1\" class=\"dataframe\">\n",
              "  <thead>\n",
              "    <tr style=\"text-align: right;\">\n",
              "      <th></th>\n",
              "      <th>genre</th>\n",
              "      <th>lyrics</th>\n",
              "      <th>SongInfo</th>\n",
              "    </tr>\n",
              "  </thead>\n",
              "  <tbody>\n",
              "    <tr>\n",
              "      <th>count</th>\n",
              "      <td>558</td>\n",
              "      <td>558</td>\n",
              "      <td>558</td>\n",
              "    </tr>\n",
              "    <tr>\n",
              "      <th>unique</th>\n",
              "      <td>6</td>\n",
              "      <td>548</td>\n",
              "      <td>548</td>\n",
              "    </tr>\n",
              "    <tr>\n",
              "      <th>top</th>\n",
              "      <td>Pop</td>\n",
              "      <td>Sitting in the morning sun Ill be sitting whe...</td>\n",
              "      <td>SMOKEY ROBINSON &amp; THE MIRACLES - THE TRACKS OF...</td>\n",
              "    </tr>\n",
              "    <tr>\n",
              "      <th>freq</th>\n",
              "      <td>100</td>\n",
              "      <td>2</td>\n",
              "      <td>2</td>\n",
              "    </tr>\n",
              "  </tbody>\n",
              "</table>\n",
              "</div>"
            ],
            "text/plain": [
              "       genre  ...                                           SongInfo\n",
              "count    558  ...                                                558\n",
              "unique     6  ...                                                548\n",
              "top      Pop  ...  SMOKEY ROBINSON & THE MIRACLES - THE TRACKS OF...\n",
              "freq     100  ...                                                  2\n",
              "\n",
              "[4 rows x 3 columns]"
            ]
          },
          "metadata": {},
          "execution_count": 177
        }
      ]
    },
    {
      "cell_type": "code",
      "metadata": {
        "colab": {
          "base_uri": "https://localhost:8080/",
          "height": 417
        },
        "id": "3mOhojLJ85XT",
        "outputId": "79c50ae5-b9c2-49ed-c16f-dfeeb4811bd7"
      },
      "source": [
        "#Create a new data from 2 columns genre and lyrics\n",
        "columns = data[['genre', 'lyrics']]\n",
        "columns"
      ],
      "execution_count": null,
      "outputs": [
        {
          "output_type": "execute_result",
          "data": {
            "text/html": [
              "<div>\n",
              "<style scoped>\n",
              "    .dataframe tbody tr th:only-of-type {\n",
              "        vertical-align: middle;\n",
              "    }\n",
              "\n",
              "    .dataframe tbody tr th {\n",
              "        vertical-align: top;\n",
              "    }\n",
              "\n",
              "    .dataframe thead th {\n",
              "        text-align: right;\n",
              "    }\n",
              "</style>\n",
              "<table border=\"1\" class=\"dataframe\">\n",
              "  <thead>\n",
              "    <tr style=\"text-align: right;\">\n",
              "      <th></th>\n",
              "      <th>genre</th>\n",
              "      <th>lyrics</th>\n",
              "    </tr>\n",
              "  </thead>\n",
              "  <tbody>\n",
              "    <tr>\n",
              "      <th>0</th>\n",
              "      <td>Christian</td>\n",
              "      <td>Who am I, that the Lord of all the earth Woul...</td>\n",
              "    </tr>\n",
              "    <tr>\n",
              "      <th>1</th>\n",
              "      <td>Christian</td>\n",
              "      <td>Glory Revealed  By His Wounds He was pierced ...</td>\n",
              "    </tr>\n",
              "    <tr>\n",
              "      <th>2</th>\n",
              "      <td>Christian</td>\n",
              "      <td>Lord of heaven and earth Lord of all creation...</td>\n",
              "    </tr>\n",
              "    <tr>\n",
              "      <th>3</th>\n",
              "      <td>Christian</td>\n",
              "      <td>I can only imagine what it will be like When ...</td>\n",
              "    </tr>\n",
              "    <tr>\n",
              "      <th>4</th>\n",
              "      <td>Christian</td>\n",
              "      <td>I am not skilled to understand What God has w...</td>\n",
              "    </tr>\n",
              "    <tr>\n",
              "      <th>...</th>\n",
              "      <td>...</td>\n",
              "      <td>...</td>\n",
              "    </tr>\n",
              "    <tr>\n",
              "      <th>553</th>\n",
              "      <td>R&amp;B</td>\n",
              "      <td>Ha I dont care ha, about your past I just wan...</td>\n",
              "    </tr>\n",
              "    <tr>\n",
              "      <th>554</th>\n",
              "      <td>R&amp;B</td>\n",
              "      <td>Hoverin by my suitcase  Tryin to find a warm ...</td>\n",
              "    </tr>\n",
              "    <tr>\n",
              "      <th>555</th>\n",
              "      <td>R&amp;B</td>\n",
              "      <td>I dont know why I love you like I do  After a...</td>\n",
              "    </tr>\n",
              "    <tr>\n",
              "      <th>556</th>\n",
              "      <td>R&amp;B</td>\n",
              "      <td>C. C. Rider Elvis Presley  Well now see., C. ...</td>\n",
              "    </tr>\n",
              "    <tr>\n",
              "      <th>557</th>\n",
              "      <td>R&amp;B</td>\n",
              "      <td>Cynthia get up and dance to the music!  Get o...</td>\n",
              "    </tr>\n",
              "  </tbody>\n",
              "</table>\n",
              "<p>558 rows × 2 columns</p>\n",
              "</div>"
            ],
            "text/plain": [
              "         genre                                             lyrics\n",
              "0    Christian   Who am I, that the Lord of all the earth Woul...\n",
              "1    Christian   Glory Revealed  By His Wounds He was pierced ...\n",
              "2    Christian   Lord of heaven and earth Lord of all creation...\n",
              "3    Christian   I can only imagine what it will be like When ...\n",
              "4    Christian   I am not skilled to understand What God has w...\n",
              "..         ...                                                ...\n",
              "553        R&B   Ha I dont care ha, about your past I just wan...\n",
              "554        R&B   Hoverin by my suitcase  Tryin to find a warm ...\n",
              "555        R&B   I dont know why I love you like I do  After a...\n",
              "556        R&B   C. C. Rider Elvis Presley  Well now see., C. ...\n",
              "557        R&B   Cynthia get up and dance to the music!  Get o...\n",
              "\n",
              "[558 rows x 2 columns]"
            ]
          },
          "metadata": {},
          "execution_count": 178
        }
      ]
    },
    {
      "cell_type": "code",
      "metadata": {
        "colab": {
          "base_uri": "https://localhost:8080/"
        },
        "id": "HH5hFxl9-yiE",
        "outputId": "defad84a-69b0-4d63-f94c-6d3ffe99f8c7"
      },
      "source": [
        "#Types of music\n",
        "columns['genre'].unique()"
      ],
      "execution_count": null,
      "outputs": [
        {
          "output_type": "execute_result",
          "data": {
            "text/plain": [
              "array(['Christian', 'Country', 'Hip-Hop', 'Pop', 'Rock', 'R&B'],\n",
              "      dtype=object)"
            ]
          },
          "metadata": {},
          "execution_count": 179
        }
      ]
    },
    {
      "cell_type": "code",
      "metadata": {
        "colab": {
          "base_uri": "https://localhost:8080/"
        },
        "id": "p2wYmZOW-3dK",
        "outputId": "37e2984b-a89a-4fcf-b088-57032d45f337"
      },
      "source": [
        "#Total number of songs with each type of music\n",
        "columns['genre'].value_counts()"
      ],
      "execution_count": null,
      "outputs": [
        {
          "output_type": "execute_result",
          "data": {
            "text/plain": [
              "Pop          100\n",
              "Rock          95\n",
              "Christian     94\n",
              "R&B           91\n",
              "Hip-Hop       91\n",
              "Country       87\n",
              "Name: genre, dtype: int64"
            ]
          },
          "metadata": {},
          "execution_count": 180
        }
      ]
    },
    {
      "cell_type": "code",
      "metadata": {
        "id": "4tEG4f1e_Ehq"
      },
      "source": [
        "#choose 2 categories to build models\n",
        "columns = columns[(columns.genre == 'Christian') | (columns.genre == 'Country')]"
      ],
      "execution_count": null,
      "outputs": []
    },
    {
      "cell_type": "code",
      "metadata": {
        "id": "_gzrq5zoBWH5"
      },
      "source": [
        "#Приведение к нижнему регистру\n",
        "lowered = columns['lyrics'].str.lower()\n",
        "#Create a new column with the values of the lyrics column already lower\n",
        "columns['lowered'] = lowered \n",
        "columns.head()"
      ],
      "execution_count": null,
      "outputs": []
    },
    {
      "cell_type": "code",
      "metadata": {
        "colab": {
          "base_uri": "https://localhost:8080/"
        },
        "id": "p5M-wDy3Kxk-",
        "outputId": "50af7ed7-6492-4cf7-b3b7-c802e706dbfb"
      },
      "source": [
        "#import nltk to work with human language data\n",
        "import nltk\n",
        "from nltk.tokenize import word_tokenize\n",
        "\n",
        "nltk.download('punkt')"
      ],
      "execution_count": null,
      "outputs": [
        {
          "output_type": "stream",
          "name": "stdout",
          "text": [
            "[nltk_data] Downloading package punkt to /root/nltk_data...\n",
            "[nltk_data]   Package punkt is already up-to-date!\n"
          ]
        },
        {
          "output_type": "execute_result",
          "data": {
            "text/plain": [
              "True"
            ]
          },
          "metadata": {},
          "execution_count": 183
        }
      ]
    },
    {
      "cell_type": "code",
      "metadata": {
        "id": "PwcN6wrvPiEA"
      },
      "source": [
        "#Split each element of a sentence into an array\n",
        "tokened = columns.apply(lambda row: nltk.word_tokenize(row['lowered']),axis = 1)"
      ],
      "execution_count": null,
      "outputs": []
    },
    {
      "cell_type": "code",
      "metadata": {
        "colab": {
          "base_uri": "https://localhost:8080/",
          "height": 304
        },
        "id": "t1sgTBEPN7IS",
        "outputId": "4e6bc28a-5250-474a-fe8e-58dce3e62d20"
      },
      "source": [
        "columns['tokened'] = tokened #tao cot tokened chua gia tri cua lyrics sau khi da duoc word_tokenize\n",
        "columns.head()"
      ],
      "execution_count": null,
      "outputs": [
        {
          "output_type": "stream",
          "name": "stderr",
          "text": [
            "/usr/local/lib/python3.7/dist-packages/ipykernel_launcher.py:1: SettingWithCopyWarning: \n",
            "A value is trying to be set on a copy of a slice from a DataFrame.\n",
            "Try using .loc[row_indexer,col_indexer] = value instead\n",
            "\n",
            "See the caveats in the documentation: https://pandas.pydata.org/pandas-docs/stable/user_guide/indexing.html#returning-a-view-versus-a-copy\n",
            "  \"\"\"Entry point for launching an IPython kernel.\n"
          ]
        },
        {
          "output_type": "execute_result",
          "data": {
            "text/html": [
              "<div>\n",
              "<style scoped>\n",
              "    .dataframe tbody tr th:only-of-type {\n",
              "        vertical-align: middle;\n",
              "    }\n",
              "\n",
              "    .dataframe tbody tr th {\n",
              "        vertical-align: top;\n",
              "    }\n",
              "\n",
              "    .dataframe thead th {\n",
              "        text-align: right;\n",
              "    }\n",
              "</style>\n",
              "<table border=\"1\" class=\"dataframe\">\n",
              "  <thead>\n",
              "    <tr style=\"text-align: right;\">\n",
              "      <th></th>\n",
              "      <th>genre</th>\n",
              "      <th>lyrics</th>\n",
              "      <th>lowered</th>\n",
              "      <th>tokened</th>\n",
              "    </tr>\n",
              "  </thead>\n",
              "  <tbody>\n",
              "    <tr>\n",
              "      <th>0</th>\n",
              "      <td>Christian</td>\n",
              "      <td>Who am I, that the Lord of all the earth Woul...</td>\n",
              "      <td>who am i, that the lord of all the earth woul...</td>\n",
              "      <td>[who, am, i, ,, that, the, lord, of, all, the,...</td>\n",
              "    </tr>\n",
              "    <tr>\n",
              "      <th>1</th>\n",
              "      <td>Christian</td>\n",
              "      <td>Glory Revealed  By His Wounds He was pierced ...</td>\n",
              "      <td>glory revealed  by his wounds he was pierced ...</td>\n",
              "      <td>[glory, revealed, by, his, wounds, he, was, pi...</td>\n",
              "    </tr>\n",
              "    <tr>\n",
              "      <th>2</th>\n",
              "      <td>Christian</td>\n",
              "      <td>Lord of heaven and earth Lord of all creation...</td>\n",
              "      <td>lord of heaven and earth lord of all creation...</td>\n",
              "      <td>[lord, of, heaven, and, earth, lord, of, all, ...</td>\n",
              "    </tr>\n",
              "    <tr>\n",
              "      <th>3</th>\n",
              "      <td>Christian</td>\n",
              "      <td>I can only imagine what it will be like When ...</td>\n",
              "      <td>i can only imagine what it will be like when ...</td>\n",
              "      <td>[i, can, only, imagine, what, it, will, be, li...</td>\n",
              "    </tr>\n",
              "    <tr>\n",
              "      <th>4</th>\n",
              "      <td>Christian</td>\n",
              "      <td>I am not skilled to understand What God has w...</td>\n",
              "      <td>i am not skilled to understand what god has w...</td>\n",
              "      <td>[i, am, not, skilled, to, understand, what, go...</td>\n",
              "    </tr>\n",
              "  </tbody>\n",
              "</table>\n",
              "</div>"
            ],
            "text/plain": [
              "       genre  ...                                            tokened\n",
              "0  Christian  ...  [who, am, i, ,, that, the, lord, of, all, the,...\n",
              "1  Christian  ...  [glory, revealed, by, his, wounds, he, was, pi...\n",
              "2  Christian  ...  [lord, of, heaven, and, earth, lord, of, all, ...\n",
              "3  Christian  ...  [i, can, only, imagine, what, it, will, be, li...\n",
              "4  Christian  ...  [i, am, not, skilled, to, understand, what, go...\n",
              "\n",
              "[5 rows x 4 columns]"
            ]
          },
          "metadata": {},
          "execution_count": 185
        }
      ]
    },
    {
      "cell_type": "code",
      "metadata": {
        "colab": {
          "base_uri": "https://localhost:8080/"
        },
        "id": "rrGyXqJSQP0E",
        "outputId": "c41d4267-2f02-4740-d3b3-1f6c4764f5af"
      },
      "source": [
        "# Removing stop words\n",
        "nltk.download('stopwords')\n",
        "from nltk.corpus import stopwords\n"
      ],
      "execution_count": null,
      "outputs": [
        {
          "output_type": "stream",
          "name": "stdout",
          "text": [
            "[nltk_data] Downloading package stopwords to /root/nltk_data...\n",
            "[nltk_data]   Package stopwords is already up-to-date!\n"
          ]
        }
      ]
    },
    {
      "cell_type": "code",
      "metadata": {
        "id": "f_IoyXycTuGv"
      },
      "source": [
        "#print(stopwords.words('english')) # Nhung stop word trong tieng anh\n",
        "#Removing stop words\n",
        "noise = stopwords.words('english')\n",
        "withoutstop = columns['tokened'].apply(lambda x : [item for item in x if item not in noise])\n",
        "without_stop = []\n",
        "for a in withoutstop:\n",
        "  without_stop.append(\",\".join(a))\n",
        "  "
      ],
      "execution_count": null,
      "outputs": []
    },
    {
      "cell_type": "code",
      "metadata": {
        "colab": {
          "base_uri": "https://localhost:8080/",
          "height": 304
        },
        "id": "RPxRTzozUjkv",
        "outputId": "23747515-246d-4712-b2f9-c8867c141733"
      },
      "source": [
        "columns['without_stop'] = without_stop\n",
        "columns.head()"
      ],
      "execution_count": null,
      "outputs": [
        {
          "output_type": "stream",
          "name": "stderr",
          "text": [
            "/usr/local/lib/python3.7/dist-packages/ipykernel_launcher.py:2: SettingWithCopyWarning: \n",
            "A value is trying to be set on a copy of a slice from a DataFrame.\n",
            "Try using .loc[row_indexer,col_indexer] = value instead\n",
            "\n",
            "See the caveats in the documentation: https://pandas.pydata.org/pandas-docs/stable/user_guide/indexing.html#returning-a-view-versus-a-copy\n",
            "  \n"
          ]
        },
        {
          "output_type": "execute_result",
          "data": {
            "text/html": [
              "<div>\n",
              "<style scoped>\n",
              "    .dataframe tbody tr th:only-of-type {\n",
              "        vertical-align: middle;\n",
              "    }\n",
              "\n",
              "    .dataframe tbody tr th {\n",
              "        vertical-align: top;\n",
              "    }\n",
              "\n",
              "    .dataframe thead th {\n",
              "        text-align: right;\n",
              "    }\n",
              "</style>\n",
              "<table border=\"1\" class=\"dataframe\">\n",
              "  <thead>\n",
              "    <tr style=\"text-align: right;\">\n",
              "      <th></th>\n",
              "      <th>genre</th>\n",
              "      <th>lyrics</th>\n",
              "      <th>lowered</th>\n",
              "      <th>tokened</th>\n",
              "      <th>without_stop</th>\n",
              "    </tr>\n",
              "  </thead>\n",
              "  <tbody>\n",
              "    <tr>\n",
              "      <th>0</th>\n",
              "      <td>Christian</td>\n",
              "      <td>Who am I, that the Lord of all the earth Woul...</td>\n",
              "      <td>who am i, that the lord of all the earth woul...</td>\n",
              "      <td>[who, am, i, ,, that, the, lord, of, all, the,...</td>\n",
              "      <td>,,lord,earth,would,care,know,name,would,care,f...</td>\n",
              "    </tr>\n",
              "    <tr>\n",
              "      <th>1</th>\n",
              "      <td>Christian</td>\n",
              "      <td>Glory Revealed  By His Wounds He was pierced ...</td>\n",
              "      <td>glory revealed  by his wounds he was pierced ...</td>\n",
              "      <td>[glory, revealed, by, his, wounds, he, was, pi...</td>\n",
              "      <td>glory,revealed,wounds,pierced,transgressions,c...</td>\n",
              "    </tr>\n",
              "    <tr>\n",
              "      <th>2</th>\n",
              "      <td>Christian</td>\n",
              "      <td>Lord of heaven and earth Lord of all creation...</td>\n",
              "      <td>lord of heaven and earth lord of all creation...</td>\n",
              "      <td>[lord, of, heaven, and, earth, lord, of, all, ...</td>\n",
              "      <td>lord,heaven,earth,lord,creation,lord,heaven,ea...</td>\n",
              "    </tr>\n",
              "    <tr>\n",
              "      <th>3</th>\n",
              "      <td>Christian</td>\n",
              "      <td>I can only imagine what it will be like When ...</td>\n",
              "      <td>i can only imagine what it will be like when ...</td>\n",
              "      <td>[i, can, only, imagine, what, it, will, be, li...</td>\n",
              "      <td>imagine,like,walk,side,imagine,eyes,see,face,i...</td>\n",
              "    </tr>\n",
              "    <tr>\n",
              "      <th>4</th>\n",
              "      <td>Christian</td>\n",
              "      <td>I am not skilled to understand What God has w...</td>\n",
              "      <td>i am not skilled to understand what god has w...</td>\n",
              "      <td>[i, am, not, skilled, to, understand, what, go...</td>\n",
              "      <td>skilled,understand,god,willed,,,god,planned,kn...</td>\n",
              "    </tr>\n",
              "  </tbody>\n",
              "</table>\n",
              "</div>"
            ],
            "text/plain": [
              "       genre  ...                                       without_stop\n",
              "0  Christian  ...  ,,lord,earth,would,care,know,name,would,care,f...\n",
              "1  Christian  ...  glory,revealed,wounds,pierced,transgressions,c...\n",
              "2  Christian  ...  lord,heaven,earth,lord,creation,lord,heaven,ea...\n",
              "3  Christian  ...  imagine,like,walk,side,imagine,eyes,see,face,i...\n",
              "4  Christian  ...  skilled,understand,god,willed,,,god,planned,kn...\n",
              "\n",
              "[5 rows x 5 columns]"
            ]
          },
          "metadata": {},
          "execution_count": 188
        }
      ]
    },
    {
      "cell_type": "code",
      "metadata": {
        "colab": {
          "base_uri": "https://localhost:8080/"
        },
        "id": "vkCN7YmXU0oE",
        "outputId": "b46cbff4-62e1-44b5-a85b-cdca46bf12e5"
      },
      "source": [
        "#Lemmatization\n",
        "from nltk.stem import WordNetLemmatizer\n",
        "nltk.download('wordnet')\n",
        "lemmatizer = WordNetLemmatizer()\n",
        "lemmatized = columns['without_stop'].apply(lambda x: [lemmatizer.lemmatize(x)])\n"
      ],
      "execution_count": null,
      "outputs": [
        {
          "output_type": "stream",
          "name": "stdout",
          "text": [
            "[nltk_data] Downloading package wordnet to /root/nltk_data...\n",
            "[nltk_data]   Package wordnet is already up-to-date!\n"
          ]
        }
      ]
    },
    {
      "cell_type": "code",
      "metadata": {
        "id": "c1A4RMvBdGlC"
      },
      "source": [
        "lemma = []\n",
        "for a in lemmatized:\n",
        "  lemma.append(\", \".join(a))"
      ],
      "execution_count": null,
      "outputs": []
    },
    {
      "cell_type": "code",
      "metadata": {
        "colab": {
          "base_uri": "https://localhost:8080/",
          "height": 388
        },
        "id": "5ZzvKsakdReD",
        "outputId": "d9391bf3-15ea-440b-ec8d-99952ba0adca"
      },
      "source": [
        "columns['lemmatized'] = lemma\n",
        "columns.head()"
      ],
      "execution_count": null,
      "outputs": [
        {
          "output_type": "stream",
          "name": "stderr",
          "text": [
            "/usr/local/lib/python3.7/dist-packages/ipykernel_launcher.py:1: SettingWithCopyWarning: \n",
            "A value is trying to be set on a copy of a slice from a DataFrame.\n",
            "Try using .loc[row_indexer,col_indexer] = value instead\n",
            "\n",
            "See the caveats in the documentation: https://pandas.pydata.org/pandas-docs/stable/user_guide/indexing.html#returning-a-view-versus-a-copy\n",
            "  \"\"\"Entry point for launching an IPython kernel.\n"
          ]
        },
        {
          "output_type": "execute_result",
          "data": {
            "text/html": [
              "<div>\n",
              "<style scoped>\n",
              "    .dataframe tbody tr th:only-of-type {\n",
              "        vertical-align: middle;\n",
              "    }\n",
              "\n",
              "    .dataframe tbody tr th {\n",
              "        vertical-align: top;\n",
              "    }\n",
              "\n",
              "    .dataframe thead th {\n",
              "        text-align: right;\n",
              "    }\n",
              "</style>\n",
              "<table border=\"1\" class=\"dataframe\">\n",
              "  <thead>\n",
              "    <tr style=\"text-align: right;\">\n",
              "      <th></th>\n",
              "      <th>genre</th>\n",
              "      <th>lyrics</th>\n",
              "      <th>lowered</th>\n",
              "      <th>tokened</th>\n",
              "      <th>without_stop</th>\n",
              "      <th>lemmatized</th>\n",
              "    </tr>\n",
              "  </thead>\n",
              "  <tbody>\n",
              "    <tr>\n",
              "      <th>0</th>\n",
              "      <td>Christian</td>\n",
              "      <td>Who am I, that the Lord of all the earth Woul...</td>\n",
              "      <td>who am i, that the lord of all the earth woul...</td>\n",
              "      <td>[who, am, i, ,, that, the, lord, of, all, the,...</td>\n",
              "      <td>,,lord,earth,would,care,know,name,would,care,f...</td>\n",
              "      <td>,,lord,earth,would,care,know,name,would,care,f...</td>\n",
              "    </tr>\n",
              "    <tr>\n",
              "      <th>1</th>\n",
              "      <td>Christian</td>\n",
              "      <td>Glory Revealed  By His Wounds He was pierced ...</td>\n",
              "      <td>glory revealed  by his wounds he was pierced ...</td>\n",
              "      <td>[glory, revealed, by, his, wounds, he, was, pi...</td>\n",
              "      <td>glory,revealed,wounds,pierced,transgressions,c...</td>\n",
              "      <td>glory,revealed,wounds,pierced,transgressions,c...</td>\n",
              "    </tr>\n",
              "    <tr>\n",
              "      <th>2</th>\n",
              "      <td>Christian</td>\n",
              "      <td>Lord of heaven and earth Lord of all creation...</td>\n",
              "      <td>lord of heaven and earth lord of all creation...</td>\n",
              "      <td>[lord, of, heaven, and, earth, lord, of, all, ...</td>\n",
              "      <td>lord,heaven,earth,lord,creation,lord,heaven,ea...</td>\n",
              "      <td>lord,heaven,earth,lord,creation,lord,heaven,ea...</td>\n",
              "    </tr>\n",
              "    <tr>\n",
              "      <th>3</th>\n",
              "      <td>Christian</td>\n",
              "      <td>I can only imagine what it will be like When ...</td>\n",
              "      <td>i can only imagine what it will be like when ...</td>\n",
              "      <td>[i, can, only, imagine, what, it, will, be, li...</td>\n",
              "      <td>imagine,like,walk,side,imagine,eyes,see,face,i...</td>\n",
              "      <td>imagine,like,walk,side,imagine,eyes,see,face,i...</td>\n",
              "    </tr>\n",
              "    <tr>\n",
              "      <th>4</th>\n",
              "      <td>Christian</td>\n",
              "      <td>I am not skilled to understand What God has w...</td>\n",
              "      <td>i am not skilled to understand what god has w...</td>\n",
              "      <td>[i, am, not, skilled, to, understand, what, go...</td>\n",
              "      <td>skilled,understand,god,willed,,,god,planned,kn...</td>\n",
              "      <td>skilled,understand,god,willed,,,god,planned,kn...</td>\n",
              "    </tr>\n",
              "  </tbody>\n",
              "</table>\n",
              "</div>"
            ],
            "text/plain": [
              "       genre  ...                                         lemmatized\n",
              "0  Christian  ...  ,,lord,earth,would,care,know,name,would,care,f...\n",
              "1  Christian  ...  glory,revealed,wounds,pierced,transgressions,c...\n",
              "2  Christian  ...  lord,heaven,earth,lord,creation,lord,heaven,ea...\n",
              "3  Christian  ...  imagine,like,walk,side,imagine,eyes,see,face,i...\n",
              "4  Christian  ...  skilled,understand,god,willed,,,god,planned,kn...\n",
              "\n",
              "[5 rows x 6 columns]"
            ]
          },
          "metadata": {},
          "execution_count": 191
        }
      ]
    },
    {
      "cell_type": "code",
      "metadata": {
        "id": "9CJAbLeEdacS"
      },
      "source": [
        "#Split arrays or matrices into random train and test subsets\n",
        "from sklearn.model_selection import train_test_split\n",
        "X_train,X_test,y_train,y_test = train_test_split(columns.lemmatized,columns.genre,train_size = 0.7)\n"
      ],
      "execution_count": null,
      "outputs": []
    },
    {
      "cell_type": "code",
      "metadata": {
        "colab": {
          "base_uri": "https://localhost:8080/"
        },
        "id": "z-G9Phe_emp_",
        "outputId": "d33381a6-7e39-4b2c-e24e-75d4a4fa4a52"
      },
      "source": [
        "columns.genre.value_counts()"
      ],
      "execution_count": null,
      "outputs": [
        {
          "output_type": "execute_result",
          "data": {
            "text/plain": [
              "Christian    94\n",
              "Country      87\n",
              "Name: genre, dtype: int64"
            ]
          },
          "metadata": {},
          "execution_count": 193
        }
      ]
    },
    {
      "cell_type": "code",
      "metadata": {
        "id": "xUepab_PexUJ"
      },
      "source": [
        "#Convert a collection of text documents to a matrix of token counts.\n",
        "from sklearn.feature_extraction.text import CountVectorizer\n",
        "vectorizer = CountVectorizer(ngram_range = (1,3))\n",
        "vectorized_x_train = vectorizer.fit_transform(X_train)\n"
      ],
      "execution_count": null,
      "outputs": []
    },
    {
      "cell_type": "code",
      "metadata": {
        "id": "3JdQDo5ogocR"
      },
      "source": [
        "#импортируем байесовский классификатор\n",
        "from sklearn.naive_bayes import MultinomialNB\n"
      ],
      "execution_count": null,
      "outputs": []
    },
    {
      "cell_type": "code",
      "metadata": {
        "colab": {
          "base_uri": "https://localhost:8080/"
        },
        "id": "rvpdOVWZgwTo",
        "outputId": "445b6f4d-b4a4-41e0-c3d1-f6b1e5f575d5"
      },
      "source": [
        "#Build model\n",
        "clf = MultinomialNB()\n",
        "clf.fit(vectorized_x_train,y_train)"
      ],
      "execution_count": null,
      "outputs": [
        {
          "output_type": "execute_result",
          "data": {
            "text/plain": [
              "MultinomialNB(alpha=1.0, class_prior=None, fit_prior=True)"
            ]
          },
          "metadata": {},
          "execution_count": 196
        }
      ]
    },
    {
      "cell_type": "code",
      "metadata": {
        "id": "xS9fjZqst-pf"
      },
      "source": [
        "# тестовую выборку просто векторизировали\n",
        "vectorized_x_test = vectorizer.transform(X_test)"
      ],
      "execution_count": null,
      "outputs": []
    },
    {
      "cell_type": "code",
      "metadata": {
        "colab": {
          "base_uri": "https://localhost:8080/"
        },
        "id": "g0KX7Bg_t_ZA",
        "outputId": "72dc48b6-b2dc-4e17-d8cd-3b1107b58e6c"
      },
      "source": [
        "clf.predict(vectorized_x_test)"
      ],
      "execution_count": null,
      "outputs": [
        {
          "output_type": "execute_result",
          "data": {
            "text/plain": [
              "array(['Country', 'Christian', 'Country', 'Christian', 'Christian',\n",
              "       'Christian', 'Country', 'Christian', 'Country', 'Country',\n",
              "       'Christian', 'Country', 'Christian', 'Christian', 'Country',\n",
              "       'Christian', 'Country', 'Christian', 'Christian', 'Country',\n",
              "       'Christian', 'Christian', 'Christian', 'Christian', 'Christian',\n",
              "       'Christian', 'Christian', 'Christian', 'Country', 'Country',\n",
              "       'Country', 'Country', 'Christian', 'Country', 'Country',\n",
              "       'Christian', 'Country', 'Country', 'Country', 'Country', 'Country',\n",
              "       'Country', 'Christian', 'Country', 'Country', 'Country', 'Country',\n",
              "       'Christian', 'Country', 'Christian', 'Country', 'Christian',\n",
              "       'Country', 'Christian', 'Country'], dtype='<U9')"
            ]
          },
          "metadata": {},
          "execution_count": 198
        }
      ]
    },
    {
      "cell_type": "code",
      "metadata": {
        "colab": {
          "base_uri": "https://localhost:8080/"
        },
        "id": "s5op5ZEquNgX",
        "outputId": "b2028996-e8f9-4254-b681-1d13e122aa5a"
      },
      "source": [
        "from sklearn.metrics import *\n",
        "pred = clf.predict(vectorized_x_test)\n",
        "print(classification_report(y_test,pred))"
      ],
      "execution_count": null,
      "outputs": [
        {
          "output_type": "stream",
          "name": "stdout",
          "text": [
            "              precision    recall  f1-score   support\n",
            "\n",
            "   Christian       1.00      0.84      0.91        31\n",
            "     Country       0.83      1.00      0.91        24\n",
            "\n",
            "    accuracy                           0.91        55\n",
            "   macro avg       0.91      0.92      0.91        55\n",
            "weighted avg       0.92      0.91      0.91        55\n",
            "\n"
          ]
        }
      ]
    },
    {
      "cell_type": "code",
      "metadata": {
        "id": "yOniecyfyW_w"
      },
      "source": [
        "#Create 2 types of music with 2 songs\n",
        "country_sentense =\"\"\"Jolene, Jolene, Jolene, Jolene\n",
        "Oh, I'm begging of you please don't take my man\n",
        "Jolene, Jolene, Jolene, Jolene\n",
        "Please don't take him even though you can\n",
        "Your beauty is beyond compare\n",
        "With flaming locks of auburn hair\n",
        "With ivory skin and eyes of emerald green\n",
        "Your smile is like a breath of spring\n",
        "Your skin is soft like summer rain\n",
        "And I can not compete with you, Jolene\n",
        "And I can easily understand\n",
        "How you could easily take my man\n",
        "But you don't know what he means to me, Jolene\n",
        "He talks about you in his sleep\n",
        "There's nothing I can do to keep\n",
        "From crying when he calls your name, Jolene, Jolene\n",
        "Jolene, Jolene, Jolene, Jolene\n",
        "Please don't take him even though you can\n",
        "Jolene, Jolene, Jolene, Jolene\n",
        "Please don't take him even though you can\n",
        "I had to have this talk with you\n",
        "My happiness depends on you\n",
        "And whatever you decide to do, Jolene\n",
        "And you could have your choice of men\n",
        "But I could never love again\n",
        "Cause he's the only one for me, Jolene, Jolene\n",
        "Jolene, Jolene, Jolene, Jolene\n",
        "Oh, I'm begging of you please don't take my man\n",
        "Jolene, Jolene, Jolene, Jolene\n",
        "Please don't take him even though you can\n",
        "Jolene, Jolene\"\"\"\n",
        "\n",
        "\n",
        "Christian_lyrics =\"\"\"As I lay me down to sleep\n",
        "I hear her speak to me\n",
        "Hello 'Mari, how ya doin'?\n",
        "I think the storm ran out of rain, the clouds are movin'\n",
        "I know you're happy 'cause I can see it\n",
        "So tell the voice inside ya head to believe it\n",
        "I talked to God about you, he said he sent you an angel\n",
        "And look at all that he gave you\n",
        "You asked for one and you got two, mmhm\n",
        "You know I never left you\n",
        "'Cause every road that leads to heaven's right inside you\n",
        "So I can say\n",
        "Hello, my only one, just like the mornin' sun\n",
        "You'll keep on risin' 'til the sky knows your name\n",
        "Hello, my only one, remember who you are\n",
        "No, you're not perfect but you're not your mistakes\n",
        "Hey, hey, hey, hey\n",
        "Oh, the good outweighs the bad even on your worst day\n",
        "Remember how I'd say\n",
        "Hey, hey, one day, you'll be the man you always knew you could be\n",
        "And if you knew how proud I was\n",
        "You'd never shed a tear, have a fear, no, you wouldn't do that\n",
        "And though I didn't pick the day to turn the page\n",
        "I know it's not the end every time I see her face, and I hear you say\n",
        "Hello my only one, remember who you are\n",
        "You got the world 'cause you got love in your hands\n",
        "And you're still my chosen one\n",
        "So can you understand? One day you'll understand\n",
        "So hear me out, hear me out\n",
        "I won't go, I won't go\n",
        "No goodbyes, no goodbyes\n",
        "Just hello, just hello\n",
        "And when you cry, I will cry\n",
        "And when you smile, I will smile\n",
        "And next time when I look in your eyes\n",
        "We'll have wings and we'll fly\n",
        "Hello, my only one, just like the mornin' sun\n",
        "You'll keep on risin' 'til the sky knows your name\n",
        "And you're still my chosen one, remember who you are\n",
        "No, you're not perfect but you're not your mistakes\n",
        "Hey, hey, hey, hey\n",
        "Tell Nori about me, tell Nori ab-\n",
        "I just want you to do me a favor\n",
        "Tell Nori about me, tell Nori about me\n",
        "Tell Nori about me, tell Nori about me\n",
        "Tell Nori about me, tell Nori about me\n",
        "Tell Nori about me, tell Nori about me\n",
        "Tell Nori about me, tell Nori about me\"\"\"\n",
        "\n",
        "\n"
      ],
      "execution_count": null,
      "outputs": []
    },
    {
      "cell_type": "code",
      "metadata": {
        "colab": {
          "base_uri": "https://localhost:8080/"
        },
        "id": "GDVKzJkCQb4c",
        "outputId": "ab9c44ef-3a89-4bd8-9464-37ca18564179"
      },
      "source": [
        "#Build a function for this prediction task\n",
        "def pipeline(vectorizer , clf, x):\n",
        "  x = nltk.word_tokenize(x.lower())\n",
        "  x = [item for item in x if item not in noise]\n",
        "  x = \", \".join(x)\n",
        "  # lemmatize\n",
        "  x =  lemmatizer.lemmatize(x)\n",
        "  vectorized_x = vectorizer.transform([x])\n",
        "  pred = clf.predict(vectorized_x)\n",
        "  print(pred)\n",
        "\n",
        "pipeline(vectorizer, clf, country_sentense )\n",
        "pipeline(vectorizer, clf, Christian_lyrics )"
      ],
      "execution_count": null,
      "outputs": [
        {
          "output_type": "stream",
          "name": "stdout",
          "text": [
            "['Country']\n",
            "['Country']\n"
          ]
        }
      ]
    },
    {
      "cell_type": "code",
      "metadata": {
        "colab": {
          "base_uri": "https://localhost:8080/"
        },
        "id": "uFwYjJmCa0ir",
        "outputId": "c25a9c7a-750c-4d4b-e7a6-0189af96c512"
      },
      "source": [
        "#Use the referenced dataset to similarly teach the model to distinguish David Bowie lyrics from Paul McCartney lyrics\n",
        "def classification_author():\n",
        "    data = pd.read_csv(\"/content/drive/MyDrive/Colab Notebooks/data_baitapanhthanh/lab4_dataAnalysis/dataset-lyrics-musics-mini.csv\")\n",
        "    data = data[(data['cantorNome']=='david-bowie') | (data['cantorNome']=='paul-mccartney')]\n",
        "    columns = data[['cantorNome', 'letra']]\n",
        "    lowered = columns['letra'].str.lower()\n",
        "    columns['lowered'] = lowered\n",
        "    tokened = columns.apply(lambda row: nltk.word_tokenize(row['lowered']), axis=1)\n",
        "    columns['tokened'] = tokened\n",
        "\n",
        "    withoutstop = columns['tokened'].apply(lambda x: [item for item in x if item not in noise])\n",
        "    without_stop = []\n",
        "    for a in withoutstop:    \n",
        "        without_stop.append(\", \".join(a))\n",
        "\n",
        "    columns['without_stop'] = without_stop\n",
        "    lemmatizer = WordNetLemmatizer()\n",
        "    lemmatized = columns['without_stop'].apply(lambda x: [lemmatizer.lemmatize(x)])\n",
        "    lemma = []\n",
        "    for a in lemmatized:    \n",
        "        lemma.append(\", \".join(a))\n",
        "    columns['lemmatized'] = lemma\n",
        "    x_train, x_test, y_train, y_test = train_test_split(columns.lemmatized, columns.cantorNome, train_size = 0.7)\n",
        "    vectorizer = CountVectorizer(ngram_range=(1, 3))\n",
        "    vectorized_x_train = vectorizer.fit_transform(x_train)\n",
        "    clf = MultinomialNB()\n",
        "    clf.fit(vectorized_x_train, y_train)\n",
        "    # тестовую выборку просто векторизировали\n",
        "    vectorized_x_test = vectorizer.transform(x_test)\n",
        "    clf.predict(vectorized_x_test)\n",
        "    pred = clf.predict(vectorized_x_test)\n",
        "    print(classification_report(y_test, pred))\n",
        "\n",
        "classification_author()"
      ],
      "execution_count": null,
      "outputs": [
        {
          "output_type": "stream",
          "name": "stderr",
          "text": [
            "/usr/local/lib/python3.7/dist-packages/ipykernel_launcher.py:6: SettingWithCopyWarning: \n",
            "A value is trying to be set on a copy of a slice from a DataFrame.\n",
            "Try using .loc[row_indexer,col_indexer] = value instead\n",
            "\n",
            "See the caveats in the documentation: https://pandas.pydata.org/pandas-docs/stable/user_guide/indexing.html#returning-a-view-versus-a-copy\n",
            "  \n"
          ]
        },
        {
          "output_type": "stream",
          "name": "stdout",
          "text": [
            "                precision    recall  f1-score   support\n",
            "\n",
            "   david-bowie       0.79      0.70      0.74       150\n",
            "paul-mccartney       0.70      0.79      0.75       135\n",
            "\n",
            "      accuracy                           0.74       285\n",
            "     macro avg       0.75      0.75      0.74       285\n",
            "  weighted avg       0.75      0.74      0.74       285\n",
            "\n"
          ]
        }
      ]
    }
  ]
}